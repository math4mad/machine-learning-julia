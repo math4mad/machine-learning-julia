{
  "cells": [
    {
      "cell_type": "raw",
      "metadata": {},
      "source": [
        "---\n",
        "title: \"🍇🍷🍷kaggle-redwine-dataset.qmd\"\n",
        "---"
      ],
      "id": "a005cf5f"
    },
    {
      "cell_type": "markdown",
      "metadata": {},
      "source": [
        ":::{.callout-note title=\"info\"}\n",
        " - dataset: [Red Wine Quality](https://www.kaggle.com/datasets/uciml/red-wine-quality-cortez-et-al-2009)\n",
        "\n",
        " - eda : [Red Wine Quality ~ EDA & Classification](https://www.kaggle.com/code/eisgandar/red-wine-quality-eda-classification/input)\n",
        " - feature intor : [feature intro](https://www.kaggle.com/code/eisgandar/red-wine-quality-eda-classification?scriptVersionId=112672864&cellId=6)\n",
        "::: \n",
        "\n",
        "\n",
        "## 1. load \n"
      ],
      "id": "68ebca02"
    },
    {
      "cell_type": "code",
      "metadata": {},
      "source": [
        " using CSV,DataFrames,Tidier,Pipe\n",
        " using CairoMakie,AlgebraOfGraphics,MakieThemes\n",
        " using ScientificTypes,HypothesisTests,Distributions\n",
        " using RCall\n",
        " #Makie.set_theme!(ggthemr(:flat))\n",
        "df=CSV.File(\"../data/red-wine-quality.csv\")|>DataFrame\n",
        "df=@chain  df  begin  @clean_names end\n",
        "#df=coerce(df,:quality=>Multiclass)\n",
        "#df.total_charges=[length(idx)== 0 ? 0 : parse.(Float64,idx) for idx in  df.total_charges]\n",
        "nrow,ncol=size(df)\n",
        "cats=Symbol.((names(df))[1:end-1])\n",
        "first(df,3)"
      ],
      "id": "16c5e9a4",
      "execution_count": null,
      "outputs": []
    },
    {
      "cell_type": "markdown",
      "metadata": {},
      "source": [
        "## 2. describe of data"
      ],
      "id": "adfac615"
    },
    {
      "cell_type": "code",
      "metadata": {},
      "source": [
        "describe(df)"
      ],
      "id": "217653fd",
      "execution_count": null,
      "outputs": []
    },
    {
      "cell_type": "markdown",
      "metadata": {},
      "source": [
        "---\n",
        "## 3. Exploratory data analysis 📉 & data visualization 📊\n",
        "\n",
        "### 3.1  density of feature"
      ],
      "id": "d3c3de31"
    },
    {
      "cell_type": "code",
      "metadata": {},
      "source": [
        "dtlayer=data(df)\n",
        "\n",
        "let\n",
        "  fig=Figure(resolution=(600,800))\n",
        "  function plot_single_feature(idx,feature) \n",
        "    ax=Axis(fig[fldmod1(idx,3)...];title=\"$(feature)\")\n",
        "    plt=dtlayer*mapping(feature)*AlgebraOfGraphics.density(bandwidth=0.5)\n",
        "    draw!(ax,plt)\n",
        "  end\n",
        "  [plot_single_feature(idx,feature) for (idx,feature) in enumerate(cats)]\n",
        "  fig\n",
        "end"
      ],
      "id": "d3cd073b",
      "execution_count": null,
      "outputs": []
    },
    {
      "cell_type": "markdown",
      "metadata": {},
      "source": [
        "### 3.2 relation of variable and quality"
      ],
      "id": "a52b5d68"
    },
    {
      "cell_type": "code",
      "metadata": {},
      "source": [
        "function plot_scatter_variable(variable)\n",
        "   paris1=@chain df begin\n",
        "   @select(!!variable,quality)\n",
        "   @arrange(quality)\n",
        "   @group_by(quality)\n",
        "   end \n",
        "   cats=levels(df.quality)\n",
        "   len=length(cats)\n",
        "  fig=Figure(resolution=(350,250))\n",
        "  ax=Axis(fig[1,1],xlabel=\"$(variable)\",ylabel=\"quality\")\n",
        "  ax.yticks=(1:len)\n",
        "  for (idx,g) in enumerate(paris1)\n",
        "      \n",
        "      scatter!(g.residual_sugar,g.quality)\n",
        "  end\n",
        "  axislegend()\n",
        "  fig\n",
        "end\n"
      ],
      "id": "db9a9a33",
      "execution_count": null,
      "outputs": []
    }
  ],
  "metadata": {
    "kernelspec": {
      "name": "julia-1.10",
      "language": "julia",
      "display_name": "Julia 1.10.0"
    }
  },
  "nbformat": 4,
  "nbformat_minor": 5
}
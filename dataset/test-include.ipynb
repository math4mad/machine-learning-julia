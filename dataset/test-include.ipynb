{
  "cells": [
    {
      "cell_type": "raw",
      "metadata": {},
      "source": [
        "---\n",
        "title: \"Test include methods\"\n",
        "execute:\n",
        "  warning: false\n",
        "---"
      ],
      "id": "9604ea95"
    },
    {
      "cell_type": "markdown",
      "metadata": {},
      "source": [
        "{{<include _common.qmd >}}\n",
        "\n",
        "## 2. load csv"
      ],
      "id": "7dad05aa"
    },
    {
      "cell_type": "code",
      "metadata": {},
      "source": [
        "df=CSV.File(\"../data/iris.csv\")|>DataFrame\n",
        "first(df,10)"
      ],
      "id": "dc5d3e43",
      "execution_count": null,
      "outputs": []
    }
  ],
  "metadata": {
    "kernelspec": {
      "name": "julia-1.9",
      "language": "julia",
      "display_name": "Julia 1.9.0"
    }
  },
  "nbformat": 4,
  "nbformat_minor": 5
}
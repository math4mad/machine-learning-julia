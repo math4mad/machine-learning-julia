{
  "cells": [
    {
      "cell_type": "raw",
      "metadata": {},
      "source": [
        "---\n",
        "title: \"4- Catboots  Classification in clustering-dataset\"\n",
        "---"
      ],
      "id": "7adfb64b"
    },
    {
      "cell_type": "markdown",
      "metadata": {},
      "source": [
        "## 1. load package"
      ],
      "id": "ad7ddf71"
    },
    {
      "cell_type": "code",
      "metadata": {},
      "source": [
        "import MLJ:predict,predict_mode,measures\n",
        "using   MLJ, CSV, DataFrames,Tidier\n",
        "using  CairoMakie,AlgebraOfGraphics,MakieThemes\n",
        "using CatBoost.MLJCatBoostInterface"
      ],
      "id": "29020db0",
      "execution_count": null,
      "outputs": []
    },
    {
      "cell_type": "markdown",
      "metadata": {},
      "source": [
        "## 2. load csv"
      ],
      "id": "05400bcf"
    },
    {
      "cell_type": "code",
      "metadata": {},
      "source": [
        "df=CSV.File(\"../../data/clustering-datasets/basic2.csv\")|>DataFrame\n",
        "df=@chain  df  begin\n",
        "    @clean_names\n",
        "    #coerce(_,:color=> Multiclass)\n",
        "end\n",
        "first(df,5)"
      ],
      "id": "43f271d9",
      "execution_count": null,
      "outputs": []
    },
    {
      "cell_type": "markdown",
      "metadata": {},
      "source": [
        "## 3. describe df"
      ],
      "id": "88a46b01"
    },
    {
      "cell_type": "code",
      "metadata": {},
      "source": [
        "describe(df)"
      ],
      "id": "164e03d4",
      "execution_count": null,
      "outputs": []
    },
    {
      "cell_type": "markdown",
      "metadata": {},
      "source": [
        "## 4. tidy data"
      ],
      "id": "9916a8ca"
    },
    {
      "cell_type": "code",
      "metadata": {},
      "source": [
        "cat=levels(df.color)\n",
        "ytrain, Xtrain =  unpack(df, ==(:color), rng=123);\n",
        "size(ytrain)"
      ],
      "id": "6de40308",
      "execution_count": null,
      "outputs": []
    },
    {
      "cell_type": "markdown",
      "metadata": {},
      "source": [
        "## 5. import test data "
      ],
      "id": "b1b19aef"
    },
    {
      "cell_type": "code",
      "metadata": {},
      "source": [
        "include(\"../utils.jl\")  # import boundary_data\n",
        "tx,ty,xtest=boundary_data(df)"
      ],
      "id": "5bf46a49",
      "execution_count": null,
      "outputs": []
    },
    {
      "cell_type": "markdown",
      "metadata": {},
      "source": [
        "## 6. MLJ CatBoost classification workflow\n",
        "### 6.1 load model "
      ],
      "id": "34a31cf6"
    },
    {
      "cell_type": "code",
      "metadata": {},
      "source": [
        "catboost = CatBoostClassifier(iterations=2,learning_rate=0.20)\n",
        "mach = machine(catboost, Xtrain, ytrain)|>fit!"
      ],
      "id": "6d3b713a",
      "execution_count": null,
      "outputs": []
    },
    {
      "cell_type": "markdown",
      "metadata": {},
      "source": [
        "### 6.2 predict test data "
      ],
      "id": "393ace60"
    },
    {
      "cell_type": "code",
      "metadata": {},
      "source": [
        "ytest = predict_mode(mach, xtest)[:,1]|>Array\n",
        "show(ytest)"
      ],
      "id": "9a1df933",
      "execution_count": null,
      "outputs": []
    },
    {
      "cell_type": "markdown",
      "metadata": {},
      "source": [
        "### 6.3 plot results"
      ],
      "id": "f2600ce4"
    },
    {
      "cell_type": "code",
      "metadata": {},
      "source": [
        "fig=Figure(resolution=(600,600))\n",
        "ax=Axis(fig[1,1])\n",
        "contourf!(ax, tx,ty,ytest)\n",
        "train_data= data(df)\n",
        "maplayer=mapping(:x,:y, color=:color)\n",
        "vislayer=visual(Scatter,strokewidth=1,strokecolor=:black)\n",
        "plt=train_data*maplayer*vislayer\n",
        "draw!(fig[1,1],plt)\n",
        "fig"
      ],
      "id": "4f9478cf",
      "execution_count": null,
      "outputs": []
    }
  ],
  "metadata": {
    "kernelspec": {
      "name": "julia-1.9",
      "language": "julia",
      "display_name": "Julia 1.9.0"
    }
  },
  "nbformat": 4,
  "nbformat_minor": 5
}
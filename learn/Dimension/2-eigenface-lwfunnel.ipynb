{
  "cells": [
    {
      "cell_type": "raw",
      "metadata": {},
      "source": [
        "---\n",
        "title: \"2 Eigen Face of lfw_funneled dataset\"\n",
        "---"
      ],
      "id": "d2634d4b"
    },
    {
      "cell_type": "markdown",
      "metadata": {},
      "source": [
        ":::{.callout-note title=\"info\"}\n",
        "ref: [Faces recognition example using eigenfaces and SVMs¶](https://scikit-learn.org/stable/auto_examples/applications/plot_face_recognition.html#sphx-glr-auto-examples-applications-plot-face-recognition-py)\n",
        ":::\n",
        "\n",
        "## 1. load package "
      ],
      "id": "261f479d"
    },
    {
      "cell_type": "code",
      "metadata": {},
      "source": [
        "import Images:load\n",
        "import GLMakie:Axis\n",
        "using GLMakie,MLJ,Images,ImageView,LinearAlgebra\n",
        "using CSV,DataFrames"
      ],
      "id": "651e78b4",
      "execution_count": null,
      "outputs": []
    }
  ],
  "metadata": {
    "kernelspec": {
      "name": "julia-1.9",
      "language": "julia",
      "display_name": "Julia 1.9.0"
    }
  },
  "nbformat": 4,
  "nbformat_minor": 5
}
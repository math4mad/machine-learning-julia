{
  "cells": [
    {
      "cell_type": "raw",
      "metadata": {},
      "source": [
        "---\n",
        "title: \"Iris Pipeline\"\n",
        "---"
      ],
      "id": "a4d67c97"
    },
    {
      "cell_type": "markdown",
      "metadata": {},
      "source": [
        "## 1. load packages\n"
      ],
      "id": "4e65a57c"
    },
    {
      "cell_type": "code",
      "metadata": {},
      "source": [
        "import MLJ:transform,inverse_transform,fit!,predict_mode,evaluate\n",
        "using CSV, DataFrames,JLSO,LinearAlgebra,MLJ,RDatasets"
      ],
      "id": "746fdeb0",
      "execution_count": null,
      "outputs": []
    },
    {
      "cell_type": "markdown",
      "metadata": {},
      "source": [
        "## 2. load data"
      ],
      "id": "8f695550"
    },
    {
      "cell_type": "code",
      "metadata": {},
      "source": [
        "X, y = @load_iris"
      ],
      "id": "f8d8b505",
      "execution_count": null,
      "outputs": []
    },
    {
      "cell_type": "markdown",
      "metadata": {},
      "source": [
        "## 3. mlj workflow"
      ],
      "id": "0383df2b"
    },
    {
      "cell_type": "code",
      "metadata": {},
      "source": [
        " KNNRegressor = @load KNNRegressor pkg=NearestNeighborModels\n",
        " LinearRegressor = @load LinearRegressor pkg=MLJLinearModels add=true\n",
        " PCA = @load PCA pkg=MultivariateStats add=true\n",
        "\n",
        "pipe1 =(X)|>ContinuousEncoder |> Standardizer\n",
        "pipe2 = PCA(maxoutdim=3) |> KNNRegressor()\n",
        "evaluate(pipe1|>pipe2, X,y,resampling=CV(nfolds=3), measure=MisclassificationRate())"
      ],
      "id": "ce97f009",
      "execution_count": null,
      "outputs": []
    }
  ],
  "metadata": {
    "kernelspec": {
      "name": "julia-1.9",
      "language": "julia",
      "display_name": "Julia 1.9.0"
    }
  },
  "nbformat": 4,
  "nbformat_minor": 5
}